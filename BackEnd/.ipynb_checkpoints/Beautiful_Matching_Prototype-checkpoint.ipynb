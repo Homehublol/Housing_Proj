{
 "cells": [
  {
   "cell_type": "code",
   "execution_count": 2,
   "metadata": {
    "collapsed": true
   },
   "outputs": [
    {
     "name": "stdout",
     "output_type": "stream",
     "text": [
      "Collecting spotipy\n",
      "  Using cached https://files.pythonhosted.org/packages/7a/cd/e7d9a35216ea5bfb9234785f3d8fa7c96d0e33999c2cb72394128f6b4cce/spotipy-2.16.1-py3-none-any.whl\n",
      "Requirement already satisfied: six>=1.10.0 in /Users/yijianzong/anaconda3/lib/python3.7/site-packages (from spotipy) (1.11.0)\n",
      "Collecting requests>=2.20.0 (from spotipy)\n",
      "\u001b[?25l  Downloading https://files.pythonhosted.org/packages/29/c1/24814557f1d22c56d50280771a17307e6bf87b70727d975fd6b2ce6b014a/requests-2.25.1-py2.py3-none-any.whl (61kB)\n",
      "\u001b[K    100% |████████████████████████████████| 61kB 1.2MB/s ta 0:00:01\n",
      "\u001b[?25hRequirement already satisfied: chardet<5,>=3.0.2 in /Users/yijianzong/anaconda3/lib/python3.7/site-packages (from requests>=2.20.0->spotipy) (3.0.4)\n",
      "Requirement already satisfied: certifi>=2017.4.17 in /Users/yijianzong/anaconda3/lib/python3.7/site-packages (from requests>=2.20.0->spotipy) (2018.8.24)\n",
      "Requirement already satisfied: idna<3,>=2.5 in /Users/yijianzong/anaconda3/lib/python3.7/site-packages (from requests>=2.20.0->spotipy) (2.7)\n",
      "Requirement already satisfied: urllib3<1.27,>=1.21.1 in /Users/yijianzong/anaconda3/lib/python3.7/site-packages (from requests>=2.20.0->spotipy) (1.23)\n",
      "Installing collected packages: requests, spotipy\n",
      "  Found existing installation: requests 2.19.1\n",
      "    Uninstalling requests-2.19.1:\n",
      "      Successfully uninstalled requests-2.19.1\n",
      "Successfully installed requests-2.25.1 spotipy-2.16.1\n",
      "\u001b[33mYou are using pip version 19.0.1, however version 20.3.3 is available.\n",
      "You should consider upgrading via the 'pip install --upgrade pip' command.\u001b[0m\n"
     ]
    }
   ],
   "source": [
    "! pip install spotipy"
   ]
  },
  {
   "cell_type": "code",
   "execution_count": 139,
   "metadata": {},
   "outputs": [
    {
     "name": "stdout",
     "output_type": "stream",
     "text": [
      "37YBTVhchsMr6ekdUHEKRy Abacaxepa\n",
      "3AHoaqxjzhovQCUMi9Meyt Abacabb\n",
      "666M89buNDdSNpMkCFzkLm Abacaxi\n",
      "3ZW7rxr2KodwFKb06qGKSb Abacab\n",
      "0rKdjngABczCJGv9AxwoyT Abacaxi\n",
      "7hTGdQWv78QXZJLGeiVZQh Mc Abaca\n",
      "40e3KIbAsryGGVgybZYcQ2 Abacay\n",
      "3v05X7AbTJ01yFKpDwYFWP Flor De Abacate\n",
      "4MAPbJTPmFSvqvVB6kKPa6 Abacalypse\n",
      "7zfAiZED7MO8MSj8jSFSiv Abacate Contemporâneo\n"
     ]
    }
   ],
   "source": [
    "import spotipy\n",
    "from spotipy.oauth2 import SpotifyClientCredentials\n",
    "\n",
    "sp = spotipy.Spotify(auth_manager=SpotifyClientCredentials(client_id=\"90a6aa310e894f489bee434eb377e40f\",\n",
    "                                                           client_secret=\"0d2bd2f3823b4edd82e8b8a79f17e2f5\"))\n",
    "\n",
    "results = sp.search(q='abaca', limit=10, type='artist')\n",
    "#items = results['artists']['items']\n",
    "for idx, artist in enumerate(results['artists']['items']):\n",
    "    #print(idx, track['name'])\n",
    "    print(artist['id'],artist['name'])"
   ]
  },
  {
   "cell_type": "code",
   "execution_count": 126,
   "metadata": {},
   "outputs": [
    {
     "name": "stdout",
     "output_type": "stream",
     "text": [
      "7uVimUILdzSZG4KKKWToq0 Christmas (Deluxe Special Edition)\n",
      "4TEkdmWgOV6ys0LJjcpAiV Michelle\n",
      "7BrlhEO8dHiNmU8A1Ep9RZ If the World Was Ending (feat. Julia Michaels)\n",
      "1yY9R0IjLXGhf3aPb6Y63k Micropop\n",
      "3CKVXhODttZebJAzjUs2un Christmas\n",
      "3rpSksJSFdNFqk5vne8at2 Michael Bublé\n",
      "1C2h7mLntPSeVYciMRTF4a Thriller 25 Super Deluxe Edition\n",
      "3coLNlyStg9h7f8CZ103Rl Ladies And Gentlemen... The Best Of George Michael\n",
      "2xqbyzv6NncmREgqNFP5Ee Mickey Mouse Clubhouse\n",
      "7zGPSFi3LOIC1L5Dj0oEBx From Michigan With Love\n",
      "dict_keys(['album_type', 'artists', 'available_markets', 'external_urls', 'href', 'id', 'images', 'name', 'release_date', 'release_date_precision', 'total_tracks', 'type', 'uri'])\n"
     ]
    }
   ],
   "source": [
    "results = sp.search(q='mic', limit=10, type='album')\n",
    "#items = results['artists']['items']\n",
    "for idx, artist in enumerate(results['albums']['items']):\n",
    "    #print(idx, track['name'])\n",
    "    print(artist['id'],artist['name'])\n",
    "print(artist.keys())"
   ]
  },
  {
   "cell_type": "code",
   "execution_count": 169,
   "metadata": {},
   "outputs": [],
   "source": [
    "results = sp.recommendation_genre_seeds()"
   ]
  },
  {
   "cell_type": "code",
   "execution_count": 171,
   "metadata": {},
   "outputs": [
    {
     "data": {
      "text/plain": [
       "126"
      ]
     },
     "execution_count": 171,
     "metadata": {},
     "output_type": "execute_result"
    }
   ],
   "source": [
    "len(results['genres'])"
   ]
  },
  {
   "cell_type": "code",
   "execution_count": 172,
   "metadata": {},
   "outputs": [
    {
     "data": {
      "text/plain": [
       "['acoustic',\n",
       " 'afrobeat',\n",
       " 'alt-rock',\n",
       " 'alternative',\n",
       " 'ambient',\n",
       " 'anime',\n",
       " 'black-metal',\n",
       " 'bluegrass',\n",
       " 'blues',\n",
       " 'bossanova',\n",
       " 'brazil',\n",
       " 'breakbeat',\n",
       " 'british',\n",
       " 'cantopop',\n",
       " 'chicago-house',\n",
       " 'children',\n",
       " 'chill',\n",
       " 'classical',\n",
       " 'club',\n",
       " 'comedy',\n",
       " 'country',\n",
       " 'dance',\n",
       " 'dancehall',\n",
       " 'death-metal',\n",
       " 'deep-house',\n",
       " 'detroit-techno',\n",
       " 'disco',\n",
       " 'disney',\n",
       " 'drum-and-bass',\n",
       " 'dub',\n",
       " 'dubstep',\n",
       " 'edm',\n",
       " 'electro',\n",
       " 'electronic',\n",
       " 'emo',\n",
       " 'folk',\n",
       " 'forro',\n",
       " 'french',\n",
       " 'funk',\n",
       " 'garage',\n",
       " 'german',\n",
       " 'gospel',\n",
       " 'goth',\n",
       " 'grindcore',\n",
       " 'groove',\n",
       " 'grunge',\n",
       " 'guitar',\n",
       " 'happy',\n",
       " 'hard-rock',\n",
       " 'hardcore',\n",
       " 'hardstyle',\n",
       " 'heavy-metal',\n",
       " 'hip-hop',\n",
       " 'holidays',\n",
       " 'honky-tonk',\n",
       " 'house',\n",
       " 'idm',\n",
       " 'indian',\n",
       " 'indie',\n",
       " 'indie-pop',\n",
       " 'industrial',\n",
       " 'iranian',\n",
       " 'j-dance',\n",
       " 'j-idol',\n",
       " 'j-pop',\n",
       " 'j-rock',\n",
       " 'jazz',\n",
       " 'k-pop',\n",
       " 'kids',\n",
       " 'latin',\n",
       " 'latino',\n",
       " 'malay',\n",
       " 'mandopop',\n",
       " 'metal',\n",
       " 'metal-misc',\n",
       " 'metalcore',\n",
       " 'minimal-techno',\n",
       " 'movies',\n",
       " 'mpb',\n",
       " 'new-age',\n",
       " 'new-release',\n",
       " 'opera',\n",
       " 'pagode',\n",
       " 'party',\n",
       " 'philippines-opm',\n",
       " 'piano',\n",
       " 'pop',\n",
       " 'pop-film',\n",
       " 'post-dubstep',\n",
       " 'power-pop',\n",
       " 'progressive-house',\n",
       " 'psych-rock',\n",
       " 'punk',\n",
       " 'punk-rock',\n",
       " 'r-n-b',\n",
       " 'rainy-day',\n",
       " 'reggae',\n",
       " 'reggaeton',\n",
       " 'road-trip',\n",
       " 'rock',\n",
       " 'rock-n-roll',\n",
       " 'rockabilly',\n",
       " 'romance',\n",
       " 'sad',\n",
       " 'salsa',\n",
       " 'samba',\n",
       " 'sertanejo',\n",
       " 'show-tunes',\n",
       " 'singer-songwriter',\n",
       " 'ska',\n",
       " 'sleep',\n",
       " 'songwriter',\n",
       " 'soul',\n",
       " 'soundtracks',\n",
       " 'spanish',\n",
       " 'study',\n",
       " 'summer',\n",
       " 'swedish',\n",
       " 'synth-pop',\n",
       " 'tango',\n",
       " 'techno',\n",
       " 'trance',\n",
       " 'trip-hop',\n",
       " 'turkish',\n",
       " 'work-out',\n",
       " 'world-music']"
      ]
     },
     "execution_count": 172,
     "metadata": {},
     "output_type": "execute_result"
    }
   ],
   "source": [
    "results['genres']"
   ]
  },
  {
   "cell_type": "code",
   "execution_count": null,
   "metadata": {},
   "outputs": [],
   "source": [
    "# approach1: genres => artists => albums => songs\n",
    "# approach2: artists,songs => albums => genre(infered)  "
   ]
  },
  {
   "cell_type": "code",
   "execution_count": null,
   "metadata": {},
   "outputs": [],
   "source": [
    "def getGenres"
   ]
  },
  {
   "cell_type": "markdown",
   "metadata": {},
   "source": [
    "# Exploration1: genre based matching"
   ]
  },
  {
   "cell_type": "markdown",
   "metadata": {},
   "source": [
    "## Approach1: Simple Jaccard"
   ]
  },
  {
   "cell_type": "markdown",
   "metadata": {},
   "source": [
    "### Discovery 1: Only artists return genre => have to redirect to artists if using track or album"
   ]
  },
  {
   "cell_type": "code",
   "execution_count": 146,
   "metadata": {},
   "outputs": [],
   "source": [
    "# dependency injection, display as user is typing\n",
    "def searchArtist(name,spapi,limit=10):\n",
    "    results = spapi.search(q=name, limit=limit, type='artist')\n",
    "    return [(elem['name'],elem['id'],elem['genres']) for elem in results['artists']['items']]\n",
    "# dependency injection, display as user is typing\n",
    "def searchMusic(name,spapi,limit=10):\n",
    "    results = spapi.search(q=name, limit=limit, type='track')\n",
    "    return [(elem['name'],elem['id'], elem['type']) for elem in results['tracks']['items']]"
   ]
  },
  {
   "cell_type": "code",
   "execution_count": 148,
   "metadata": {},
   "outputs": [
    {
     "data": {
      "text/plain": [
       "[('The Weeknd',\n",
       "  '1Xyo4u8uXC1ZmMpatF05PJ',\n",
       "  ['canadian contemporary r&b', 'canadian pop', 'pop']),\n",
       " ('The Weeknd´s', '4hX2FJqqKfTHzSL5kQYa0O', [])]"
      ]
     },
     "execution_count": 148,
     "metadata": {},
     "output_type": "execute_result"
    }
   ],
   "source": [
    "searchArtist(\"the weeknd\",sp)"
   ]
  },
  {
   "cell_type": "code",
   "execution_count": 164,
   "metadata": {},
   "outputs": [],
   "source": [
    "def jaccard(arr1,arr2):\n",
    "    return len(set(arr1)-set(arr2))/len(set(arr1+arr2))"
   ]
  },
  {
   "cell_type": "code",
   "execution_count": 165,
   "metadata": {},
   "outputs": [],
   "source": [
    "test_artists_zong = [\"the weeknd\",\"greenday\",\"chopin\"]\n",
    "test_artists_amit = [\"lady gaga\",\"dua lipa\",\"queens\"]\n",
    "zong_genres = [searchArtist(artist,sp)[0][2] for artist in test_artists_zong]\n",
    "amit_genres = [searchArtist(artist,sp)[0][2] for artist in test_artists_amit]"
   ]
  },
  {
   "cell_type": "code",
   "execution_count": 166,
   "metadata": {},
   "outputs": [
    {
     "data": {
      "text/plain": [
       "0.38095238095238093"
      ]
     },
     "execution_count": 166,
     "metadata": {},
     "output_type": "execute_result"
    }
   ],
   "source": [
    "zong_bulk = []\n",
    "for genres in zong_genres: zong_bulk += genres\n",
    "amit_bulk = []\n",
    "for genres in amit_genres: amit_bulk += genres\n",
    "jaccard(zong_bulk,amit_bulk)"
   ]
  },
  {
   "cell_type": "markdown",
   "metadata": {},
   "source": [
    "## Approach2: Collaborative Filtering"
   ]
  },
  {
   "cell_type": "markdown",
   "metadata": {},
   "source": [
    "### Discovery 2: New idea: choose artists => rank related categories => collaborative filtering\n",
    "### Feature space: 126 genres but filtered by users' chosen artists => sparse matrix"
   ]
  },
  {
   "cell_type": "markdown",
   "metadata": {},
   "source": [
    "### CF Family Member 1: Cosine Similarity"
   ]
  },
  {
   "cell_type": "code",
   "execution_count": 176,
   "metadata": {},
   "outputs": [],
   "source": [
    "availabe_genres = sp.recommendation_genre_seeds()['genres']\n",
    "encodings = {value:index for index,value in enumerate(availabe_genres)}"
   ]
  },
  {
   "cell_type": "code",
   "execution_count": 187,
   "metadata": {},
   "outputs": [],
   "source": [
    "import random\n",
    "def userInputConversion(k=5):\n",
    "    feature_arr = [0]*len(availabe_genres)\n",
    "    inferred_genres = random.sample(availabe_genres,k)\n",
    "    # simulate inclusion => inferred from artists\n",
    "    for genre in inferred_genres:\n",
    "        ranking = input(\"From 1-5: how do you rank: \"+genre+\" \")\n",
    "        feature_arr[encodings[genre]] = int(ranking)\n",
    "    # simulate exclusion => inferred from ~artists\n",
    "    for genre in random.sample(list(set(availabe_genres)-set(inferred_genres)),k):\n",
    "        ranking = input(\"From 1-5: how do you rank: \"+genre+\" \")\n",
    "        feature_arr[encodings[genre]] = int(ranking)\n",
    "    return feature_arr"
   ]
  },
  {
   "cell_type": "code",
   "execution_count": null,
   "metadata": {},
   "outputs": [],
   "source": [
    "userInputConversion()"
   ]
  },
  {
   "cell_type": "code",
   "execution_count": 208,
   "metadata": {},
   "outputs": [],
   "source": [
    "from scipy import spatial\n",
    "def cosineSim(arr1,arr2):\n",
    "    return 1-spatial.distance.cosine(arr1,arr2)"
   ]
  },
  {
   "cell_type": "code",
   "execution_count": 209,
   "metadata": {},
   "outputs": [
    {
     "data": {
      "text/plain": [
       "['acoustic', 'afrobeat', 'alt-rock', 'alternative', 'ambient']"
      ]
     },
     "execution_count": 209,
     "metadata": {},
     "output_type": "execute_result"
    }
   ],
   "source": [
    "cris_genre = [random.randint(0,6) for _ in range(len(availabe_genres))]\n",
    "cris_rated_genres = [genre for genre in encodings if cris_genre[encodings[genre]] > 0]\n",
    "cris_rated_genres[:5]"
   ]
  },
  {
   "cell_type": "code",
   "execution_count": 210,
   "metadata": {},
   "outputs": [],
   "source": [
    "# fake other users\n",
    "other_fake_people = [[random.randint(0,6) for _ in range(len(availabe_genres))] for k in range(25)]\n",
    "# sort by similarity \n",
    "other_fake_people.sort(key=lambda x:cosineSim(cris_genre,x),reverse=False)"
   ]
  },
  {
   "cell_type": "code",
   "execution_count": 211,
   "metadata": {},
   "outputs": [
    {
     "data": {
      "text/plain": [
       "([1, 5, 5, 1, 6], [2, 2, 4, 2, 3])"
      ]
     },
     "execution_count": 211,
     "metadata": {},
     "output_type": "execute_result"
    }
   ],
   "source": [
    "other_fake_people[0][:5], cris_genre[:5]"
   ]
  },
  {
   "cell_type": "code",
   "execution_count": 212,
   "metadata": {},
   "outputs": [
    {
     "data": {
      "text/plain": [
       "0.6052963244907541"
      ]
     },
     "execution_count": 212,
     "metadata": {},
     "output_type": "execute_result"
    }
   ],
   "source": [
    "cosineSim(other_fake_people[0],cris_genre)"
   ]
  },
  {
   "cell_type": "code",
   "execution_count": 213,
   "metadata": {},
   "outputs": [
    {
     "data": {
      "text/plain": [
       "0.9953733293070721"
      ]
     },
     "execution_count": 213,
     "metadata": {},
     "output_type": "execute_result"
    }
   ],
   "source": [
    "fake_best_result = [elem if random.randint(0,6) > 0 else elem-1 for elem in cris_genre ]\n",
    "cosineSim(fake_best_result,cris_genre)"
   ]
  },
  {
   "cell_type": "code",
   "execution_count": 214,
   "metadata": {},
   "outputs": [
    {
     "data": {
      "text/plain": [
       "1.0"
      ]
     },
     "execution_count": 214,
     "metadata": {},
     "output_type": "execute_result"
    }
   ],
   "source": [
    "cosineSim(cris_genre,cris_genre)"
   ]
  },
  {
   "cell_type": "markdown",
   "metadata": {},
   "source": [
    "### CF Family Member 2: KNN"
   ]
  },
  {
   "cell_type": "code",
   "execution_count": 215,
   "metadata": {},
   "outputs": [
    {
     "ename": "SyntaxError",
     "evalue": "non-default argument follows default argument (<ipython-input-215-325ad22bfbd4>, line 3)",
     "output_type": "error",
     "traceback": [
      "\u001b[0;36m  File \u001b[0;32m\"<ipython-input-215-325ad22bfbd4>\"\u001b[0;36m, line \u001b[0;32m3\u001b[0m\n\u001b[0;31m    def getSimilarUser(k=2,algo='ball_tree',existing_users, current_user):\u001b[0m\n\u001b[0m                      ^\u001b[0m\n\u001b[0;31mSyntaxError\u001b[0m\u001b[0;31m:\u001b[0m non-default argument follows default argument\n"
     ]
    }
   ],
   "source": [
    "from sklearn.neighbors import NearestNeighbors\n",
    "import numpy as np\n",
    "def getSimilarUser(existing_users, current_user,k=2,algo='ball_tree'):\n",
    "    _,matched_users = NearestNeighbors(n_neighbors=k, algorithm=algo).fit(existing_users).kneighbors(current_user)\n",
    "    return matched_users"
   ]
  },
  {
   "cell_type": "markdown",
   "metadata": {},
   "source": [
    "## Approach3: Graph Theory? => worth a try"
   ]
  },
  {
   "cell_type": "code",
   "execution_count": null,
   "metadata": {},
   "outputs": [],
   "source": []
  }
 ],
 "metadata": {
  "kernelspec": {
   "display_name": "Python 3",
   "language": "python",
   "name": "python3"
  },
  "language_info": {
   "codemirror_mode": {
    "name": "ipython",
    "version": 3
   },
   "file_extension": ".py",
   "mimetype": "text/x-python",
   "name": "python",
   "nbconvert_exporter": "python",
   "pygments_lexer": "ipython3",
   "version": "3.7.0"
  }
 },
 "nbformat": 4,
 "nbformat_minor": 2
}
